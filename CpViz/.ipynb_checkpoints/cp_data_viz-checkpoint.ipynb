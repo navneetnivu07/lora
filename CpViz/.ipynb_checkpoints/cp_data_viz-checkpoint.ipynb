{
 "cells": [
  {
   "cell_type": "code",
   "execution_count": 5,
   "metadata": {},
   "outputs": [],
   "source": [
    "import pandas as pd"
   ]
  },
  {
   "cell_type": "code",
   "execution_count": 22,
   "metadata": {},
   "outputs": [],
   "source": [
    "cpdata = pd.read_csv('app2_data_17_04_py.csv')"
   ]
  },
  {
   "cell_type": "code",
   "execution_count": 23,
   "metadata": {},
   "outputs": [
    {
     "data": {
      "text/html": [
       "<div>\n",
       "<style scoped>\n",
       "    .dataframe tbody tr th:only-of-type {\n",
       "        vertical-align: middle;\n",
       "    }\n",
       "\n",
       "    .dataframe tbody tr th {\n",
       "        vertical-align: top;\n",
       "    }\n",
       "\n",
       "    .dataframe thead th {\n",
       "        text-align: right;\n",
       "    }\n",
       "</style>\n",
       "<table border=\"1\" class=\"dataframe\">\n",
       "  <thead>\n",
       "    <tr style=\"text-align: right;\">\n",
       "      <th></th>\n",
       "      <th>devEUI</th>\n",
       "      <th>rssi</th>\n",
       "      <th>loraSNR</th>\n",
       "      <th>frequency</th>\n",
       "      <th>dr</th>\n",
       "      <th>fCnt</th>\n",
       "      <th>fPort</th>\n",
       "      <th>data</th>\n",
       "      <th>datetime</th>\n",
       "      <th>location</th>\n",
       "    </tr>\n",
       "  </thead>\n",
       "  <tbody>\n",
       "    <tr>\n",
       "      <th>0</th>\n",
       "      <td>0004a30b001febcf</td>\n",
       "      <td>-34</td>\n",
       "      <td>10.5</td>\n",
       "      <td>868500000</td>\n",
       "      <td>0</td>\n",
       "      <td>1</td>\n",
       "      <td>1</td>\n",
       "      <td>F15D1</td>\n",
       "      <td>2019-04-24 00:06:22.797545</td>\n",
       "      <td>appartment</td>\n",
       "    </tr>\n",
       "    <tr>\n",
       "      <th>1</th>\n",
       "      <td>0004a30b001febcf</td>\n",
       "      <td>-33</td>\n",
       "      <td>9.5</td>\n",
       "      <td>868100000</td>\n",
       "      <td>0</td>\n",
       "      <td>2</td>\n",
       "      <td>1</td>\n",
       "      <td>F15D2</td>\n",
       "      <td>2019-04-24 00:06:29.367199</td>\n",
       "      <td>appartment</td>\n",
       "    </tr>\n",
       "    <tr>\n",
       "      <th>2</th>\n",
       "      <td>0004a30b001febcf</td>\n",
       "      <td>-48</td>\n",
       "      <td>9.5</td>\n",
       "      <td>868500000</td>\n",
       "      <td>5</td>\n",
       "      <td>3</td>\n",
       "      <td>1</td>\n",
       "      <td>F15D3</td>\n",
       "      <td>2019-04-24 00:06:34.832719</td>\n",
       "      <td>appartment</td>\n",
       "    </tr>\n",
       "  </tbody>\n",
       "</table>\n",
       "</div>"
      ],
      "text/plain": [
       "             devEUI  rssi  loraSNR  frequency  dr  fCnt  fPort   data  \\\n",
       "0  0004a30b001febcf   -34     10.5  868500000   0     1      1  F15D1   \n",
       "1  0004a30b001febcf   -33      9.5  868100000   0     2      1  F15D2   \n",
       "2  0004a30b001febcf   -48      9.5  868500000   5     3      1  F15D3   \n",
       "\n",
       "                     datetime    location  \n",
       "0  2019-04-24 00:06:22.797545  appartment  \n",
       "1  2019-04-24 00:06:29.367199  appartment  \n",
       "2  2019-04-24 00:06:34.832719  appartment  "
      ]
     },
     "execution_count": 23,
     "metadata": {},
     "output_type": "execute_result"
    }
   ],
   "source": [
    "cpdata.head(3)\n",
    "cpdata.info()"
   ]
  },
  {
   "cell_type": "code",
   "execution_count": 24,
   "metadata": {},
   "outputs": [
    {
     "data": {
      "text/plain": [
       "<matplotlib.axes._subplots.AxesSubplot at 0x22d20480e10>"
      ]
     },
     "execution_count": 24,
     "metadata": {},
     "output_type": "execute_result"
    },
    {
     "data": {
      "image/png": "[encoded data removed]",
      "text/plain": [
       "<Figure size 432x288 with 1 Axes>"
      ]
     },
     "metadata": {},
     "output_type": "display_data"
    }
   ],
   "source": [
    "cpdata['rssi'].head(10).plot.bar()"
   ]
  },
  {
   "cell_type": "code",
   "execution_count": 59,
   "metadata": {},
   "outputs": [],
   "source": [
    "f15 = cpdata[cpdata[\"data\"].str.match('F15')]\n",
    "#df[df['model'].str.match('Mac')]\n",
    "f14 = cpdata[cpdata[\"data\"].str.match('F14')]"
   ]
  },
  {
   "cell_type": "code",
   "execution_count": 61,
   "metadata": {},
   "outputs": [
    {
     "data": {
      "text/plain": [
       "-45.8"
      ]
     },
     "execution_count": 61,
     "metadata": {},
     "output_type": "execute_result"
    }
   ],
   "source": [
    "f15['rssi'].mean()"
   ]
  },
  {
   "cell_type": "code",
   "execution_count": 62,
   "metadata": {},
   "outputs": [
    {
     "data": {
      "text/plain": [
       "-101.04761904761905"
      ]
     },
     "execution_count": 62,
     "metadata": {},
     "output_type": "execute_result"
    }
   ],
   "source": [
    "f14['rssi'].mean()"
   ]
  },
  {
   "cell_type": "code",
   "execution_count": 70,
   "metadata": {},
   "outputs": [],
   "source": [
    "f_rssi_mean = []\n",
    "f_snr_mean = []\n",
    "for val in range(16):\n",
    "    if(val < 10):\n",
    "        key = \"F0\" + str(val)\n",
    "        temp = cpdata[cpdata[\"data\"].str.match(key)]\n",
    "        f_rssi_mean.append({key : temp['rssi'].mean()})\n",
    "        f_snr_mean.append({key : temp['loraSNR'].mean()})\n",
    "    else:\n",
    "        key = \"F\" + str(val)\n",
    "        temp = cpdata[cpdata[\"data\"].str.match(key)]\n",
    "        f_rssi_mean.append({key : temp['rssi'].mean()})\n",
    "        f_snr_mean.append({key : temp['loraSNR'].mean()})"
   ]
  },
  {
   "cell_type": "code",
   "execution_count": 71,
   "metadata": {},
   "outputs": [
    {
     "data": {
      "text/plain": [
       "[{'F00': -116.9047619047619},\n",
       " {'F01': -115.65},\n",
       " {'F02': -112.5},\n",
       " {'F03': -115.4},\n",
       " {'F04': -115.4090909090909},\n",
       " {'F05': -115.85},\n",
       " {'F06': -112.80952380952381},\n",
       " {'F07': -113.4},\n",
       " {'F08': -112.6842105263158},\n",
       " {'F09': -113.3},\n",
       " {'F10': -112.71428571428571},\n",
       " {'F11': -106.0952380952381},\n",
       " {'F12': -105.1},\n",
       " {'F13': -104.2},\n",
       " {'F14': -101.04761904761905},\n",
       " {'F15': -45.8}]"
      ]
     },
     "execution_count": 71,
     "metadata": {},
     "output_type": "execute_result"
    }
   ],
   "source": [
    "f_rssi_mean"
   ]
  },
  {
   "cell_type": "code",
   "execution_count": 72,
   "metadata": {},
   "outputs": [
    {
     "data": {
      "text/plain": [
       "[{'F00': -12.095238095238097},\n",
       " {'F01': -6.055},\n",
       " {'F02': -0.6449999999999999},\n",
       " {'F03': -5.545},\n",
       " {'F04': -4.531818181818181},\n",
       " {'F05': -6.395},\n",
       " {'F06': -2.5952380952380953},\n",
       " {'F07': -2.9799999999999995},\n",
       " {'F08': -3.3947368421052633},\n",
       " {'F09': -2.9449999999999994},\n",
       " {'F10': -2.180952380952381},\n",
       " {'F11': 4.838095238095238},\n",
       " {'F12': 4.88},\n",
       " {'F13': 5.569999999999999},\n",
       " {'F14': 6.371428571428572},\n",
       " {'F15': 9.515000000000002}]"
      ]
     },
     "execution_count": 72,
     "metadata": {},
     "output_type": "execute_result"
    }
   ],
   "source": [
    "f_snr_mean"
   ]
  },
  {
   "cell_type": "markdown",
   "metadata": {},
   "source": [
    "## To find time taken at each floor "
   ]
  },
  {
   "cell_type": "code",
   "execution_count": 103,
   "metadata": {},
   "outputs": [
    {
     "name": "stdout",
     "output_type": "stream",
     "text": [
      "0    2019-04-24 00:06:22.797545\n",
      "Name: datetime, dtype: object\n",
      "19    2019-04-24 00:07:49.788144\n",
      "Name: datetime, dtype: object\n",
      "2019-04-24 00:07:49.788144\n"
     ]
    },
    {
     "data": {
      "text/plain": [
       "86.990599"
      ]
     },
     "execution_count": 103,
     "metadata": {},
     "output_type": "execute_result"
    }
   ],
   "source": [
    "import datetime as dt\n",
    "\n",
    "#reviews[reviews['price'] < 200]['price'].plot.hist()\n",
    "\n",
    "start = cpdata[cpdata[\"data\"] == 'F15D1']\n",
    "end = cpdata[cpdata[\"data\"] == 'F15D20']\n",
    "\n",
    "print(start['datetime'])\n",
    "print(end['datetime'])\n",
    "\n",
    "#data[\"Salary\"]= data[\"Salary\"].astype(int) \n",
    "\n",
    "start_time = start.values.tolist()\n",
    "end_time = end.values.tolist()\n",
    "\n",
    "\n",
    "print(end_time[0][8])\n",
    "\n",
    "# date format 2019-04-24 00:06:22.797545\n",
    "a = dt.datetime.strptime(start_time[0][8], '%Y-%m-%d %H:%M:%S.%f')\n",
    "b = dt.datetime.strptime(end_time[0][8], '%Y-%m-%d %H:%M:%S.%f')\n",
    "\n",
    "(b-a).total_seconds()"
   ]
  },
  {
   "cell_type": "code",
   "execution_count": 107,
   "metadata": {},
   "outputs": [],
   "source": [
    "f_total_time = []\n",
    "for val in range(16):\n",
    "    if(val < 10):\n",
    "        key = \"F0\" + str(val)\n",
    "        start = cpdata[cpdata[\"data\"] == key + 'D1']\n",
    "        end = cpdata[cpdata[\"data\"] == key + 'D20']\n",
    "        start_time = start.values.tolist()\n",
    "        end_time = end.values.tolist()\n",
    "        a = dt.datetime.strptime(start_time[0][8], '%Y-%m-%d %H:%M:%S.%f')\n",
    "        b = dt.datetime.strptime(end_time[0][8], '%Y-%m-%d %H:%M:%S.%f')\n",
    "        f_total_time.append({key : (b-a).total_seconds()})\n",
    "    else:\n",
    "        key = \"F\" + str(val)\n",
    "        start = cpdata[cpdata[\"data\"] == key + 'D1']\n",
    "        end = cpdata[cpdata[\"data\"] == key + 'D20']\n",
    "        start_time = start.values.tolist()\n",
    "        end_time = end.values.tolist()\n",
    "        a = dt.datetime.strptime(start_time[0][8], '%Y-%m-%d %H:%M:%S.%f')\n",
    "        b = dt.datetime.strptime(end_time[0][8], '%Y-%m-%d %H:%M:%S.%f')\n",
    "        f_total_time.append({key : (b-a).total_seconds()})"
   ]
  },
  {
   "cell_type": "code",
   "execution_count": 108,
   "metadata": {},
   "outputs": [
    {
     "data": {
      "text/plain": [
       "[{'F00': 99.04509},\n",
       " {'F01': 118.52898},\n",
       " {'F02': 131.869865},\n",
       " {'F03': 113.584416},\n",
       " {'F04': 135.762109},\n",
       " {'F05': 162.100152},\n",
       " {'F06': 176.065031},\n",
       " {'F07': 138.274353},\n",
       " {'F08': 188.957198},\n",
       " {'F09': 95.666096},\n",
       " {'F10': 95.779891},\n",
       " {'F11': 91.291378},\n",
       " {'F12': 86.987915},\n",
       " {'F13': 95.726662},\n",
       " {'F14': 91.201314},\n",
       " {'F15': 86.990599}]"
      ]
     },
     "execution_count": 108,
     "metadata": {},
     "output_type": "execute_result"
    }
   ],
   "source": [
    "f_total_time"
   ]
  },
  {
   "cell_type": "code",
   "execution_count": 111,
   "metadata": {},
   "outputs": [],
   "source": [
    "a_total_time = []\n",
    "for val in range(16):\n",
    "    if(val < 10):\n",
    "        key = \"A0\" + str(val)\n",
    "        start = cpdata[cpdata[\"data\"] == key + 'D1']\n",
    "        end = cpdata[cpdata[\"data\"] == key + 'D20']\n",
    "        start_time = start.values.tolist()\n",
    "        end_time = end.values.tolist()\n",
    "        a = dt.datetime.strptime(start_time[0][8], '%Y-%m-%d %H:%M:%S.%f')\n",
    "        b = dt.datetime.strptime(end_time[0][8], '%Y-%m-%d %H:%M:%S.%f')\n",
    "        a_total_time.append({key : (b-a).total_seconds()})\n",
    "    else:\n",
    "        key = \"A\" + str(val)\n",
    "        start = cpdata[cpdata[\"data\"] == key + 'D1']\n",
    "        end = cpdata[cpdata[\"data\"] == key + 'D20']\n",
    "        start_time = start.values.tolist()\n",
    "        end_time = end.values.tolist()\n",
    "        a = dt.datetime.strptime(start_time[0][8], '%Y-%m-%d %H:%M:%S.%f')\n",
    "        b = dt.datetime.strptime(end_time[0][8], '%Y-%m-%d %H:%M:%S.%f')\n",
    "        a_total_time.append({key : (b-a).total_seconds()})"
   ]
  },
  {
   "cell_type": "code",
   "execution_count": 112,
   "metadata": {},
   "outputs": [
    {
     "data": {
      "text/plain": [
       "[{'A00': 182.362387},\n",
       " {'A01': 165.247883},\n",
       " {'A02': 171.299749},\n",
       " {'A03': 154.129476},\n",
       " {'A04': 229.364734},\n",
       " {'A05': 106.397644},\n",
       " {'A06': 130.832246},\n",
       " {'A07': 126.697138},\n",
       " {'A08': 114.605248},\n",
       " {'A09': 106.379904},\n",
       " {'A10': 116.322666},\n",
       " {'A11': 161.089988},\n",
       " {'A12': 164.004032},\n",
       " {'A13': 173.332019},\n",
       " {'A14': 117.955298},\n",
       " {'A15': 122.938001}]"
      ]
     },
     "execution_count": 112,
     "metadata": {},
     "output_type": "execute_result"
    }
   ],
   "source": [
    "a_total_time"
   ]
  },
  {
   "cell_type": "code",
   "execution_count": 93,
   "metadata": {},
   "outputs": [
    {
     "name": "stdout",
     "output_type": "stream",
     "text": [
      "<class 'pandas.core.frame.DataFrame'>\n",
      "RangeIndex: 658 entries, 0 to 657\n",
      "Data columns (total 10 columns):\n",
      "devEUI       658 non-null object\n",
      "rssi         658 non-null int64\n",
      "loraSNR      658 non-null float64\n",
      "frequency    658 non-null int64\n",
      "dr           658 non-null int64\n",
      "fCnt         658 non-null int64\n",
      "fPort        658 non-null int64\n",
      "data         658 non-null object\n",
      "datetime     658 non-null object\n",
      "location     658 non-null object\n",
      "dtypes: float64(1), int64(5), object(4)\n",
      "memory usage: 51.5+ KB\n"
     ]
    },
    {
     "data": {
      "text/plain": [
       "0      2019-04-24 00:06:22.797545\n",
       "1      2019-04-24 00:06:29.367199\n",
       "2      2019-04-24 00:06:34.832719\n",
       "3      2019-04-24 00:06:38.953667\n",
       "4      2019-04-24 00:06:43.123873\n",
       "5      2019-04-24 00:06:47.279326\n",
       "6      2019-04-24 00:06:51.409365\n",
       "7      2019-04-24 00:06:59.879406\n",
       "8      2019-04-24 00:07:04.062056\n",
       "9      2019-04-24 00:07:08.265786\n",
       "10     2019-04-24 00:07:12.389030\n",
       "11     2019-04-24 00:07:16.561416\n",
       "12     2019-04-24 00:07:20.727438\n",
       "13     2019-04-24 00:07:24.890729\n",
       "14     2019-04-24 00:07:29.002000\n",
       "15     2019-04-24 00:07:33.186326\n",
       "16     2019-04-24 00:07:37.348278\n",
       "17     2019-04-24 00:07:41.454362\n",
       "18     2019-04-24 00:07:45.625334\n",
       "19     2019-04-24 00:07:49.788144\n",
       "20     2019-04-24 00:09:28.206256\n",
       "21     2019-04-24 00:09:55.720651\n",
       "22     2019-04-24 00:10:01.380284\n",
       "23     2019-04-24 00:10:07.878001\n",
       "24     2019-04-24 00:10:13.299298\n",
       "25     2019-04-24 00:10:17.466084\n",
       "26     2019-04-24 00:10:21.626961\n",
       "27     2019-04-24 00:10:25.791005\n",
       "28     2019-04-24 00:10:29.958744\n",
       "29     2019-04-24 00:10:38.573186\n",
       "                  ...            \n",
       "628    2019-04-24 02:03:13.106311\n",
       "629    2019-04-24 02:03:22.328855\n",
       "630    2019-04-24 02:03:26.451498\n",
       "631    2019-04-24 02:03:30.635932\n",
       "632    2019-04-24 02:03:39.838245\n",
       "633    2019-04-24 02:03:44.013681\n",
       "634    2019-04-24 02:03:48.178985\n",
       "635    2019-04-24 02:03:57.343381\n",
       "636    2019-04-24 02:04:11.504056\n",
       "637    2019-04-24 02:04:15.667063\n",
       "638    2019-04-24 02:04:19.832287\n",
       "639    2019-04-24 02:04:23.992577\n",
       "640    2019-04-24 02:04:31.157974\n",
       "641    2019-04-24 02:04:35.330890\n",
       "642    2019-04-24 02:04:39.485405\n",
       "643    2019-04-24 02:04:47.649527\n",
       "644    2019-04-24 02:04:51.813839\n",
       "645    2019-04-24 02:04:55.977013\n",
       "646    2019-04-24 02:05:04.139571\n",
       "647    2019-04-24 02:05:08.302395\n",
       "648    2019-04-24 02:05:12.468326\n",
       "649    2019-04-24 02:05:21.680533\n",
       "650    2019-04-24 02:05:25.852783\n",
       "651    2019-04-24 02:05:30.023749\n",
       "652    2019-04-24 02:05:40.305164\n",
       "653    2019-04-24 02:05:44.525728\n",
       "654    2019-04-24 02:05:48.739635\n",
       "655    2019-04-24 02:05:57.012414\n",
       "656    2019-04-24 02:06:03.174660\n",
       "657    2019-04-24 02:06:14.442057\n",
       "Name: datetime, Length: 658, dtype: object"
      ]
     },
     "execution_count": 93,
     "metadata": {},
     "output_type": "execute_result"
    }
   ],
   "source": []
  },
  {
   "cell_type": "code",
   "execution_count": null,
   "metadata": {},
   "outputs": [],
   "source": []
  },
  {
   "cell_type": "code",
   "execution_count": null,
   "metadata": {},
   "outputs": [],
   "source": []
  }
 ],
 "metadata": {
  "kernelspec": {
   "display_name": "Python 3",
   "language": "python",
   "name": "python3"
  },
  "language_info": {
   "codemirror_mode": {
    "name": "ipython",
    "version": 3
   },
   "file_extension": ".py",
   "mimetype": "text/x-python",
   "name": "python",
   "nbconvert_exporter": "python",
   "pygments_lexer": "ipython3",
   "version": "3.6.5"
  }
 },
 "nbformat": 4,
 "nbformat_minor": 2
}
