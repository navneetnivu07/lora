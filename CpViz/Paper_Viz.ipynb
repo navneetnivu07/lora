{
 "cells": [
  {
   "cell_type": "code",
   "execution_count": 13,
   "metadata": {},
   "outputs": [],
   "source": [
    "import pandas as pd\n",
    "import matplotlib.pyplot as plt\n",
    "import seaborn as sns\n",
    "import numpy as np\n",
    "\n",
    "%matplotlib inline"
   ]
  },
  {
   "cell_type": "code",
   "execution_count": 14,
   "metadata": {},
   "outputs": [],
   "source": [
    "cpdata = pd.read_csv('app2_data_17_04_py.csv')"
   ]
  },
  {
   "cell_type": "code",
   "execution_count": 15,
   "metadata": {},
   "outputs": [
    {
     "data": {
      "text/html": [
       "<div>\n",
       "<style scoped>\n",
       "    .dataframe tbody tr th:only-of-type {\n",
       "        vertical-align: middle;\n",
       "    }\n",
       "\n",
       "    .dataframe tbody tr th {\n",
       "        vertical-align: top;\n",
       "    }\n",
       "\n",
       "    .dataframe thead th {\n",
       "        text-align: right;\n",
       "    }\n",
       "</style>\n",
       "<table border=\"1\" class=\"dataframe\">\n",
       "  <thead>\n",
       "    <tr style=\"text-align: right;\">\n",
       "      <th></th>\n",
       "      <th>devEUI</th>\n",
       "      <th>rssi</th>\n",
       "      <th>loraSNR</th>\n",
       "      <th>frequency</th>\n",
       "      <th>dr</th>\n",
       "      <th>fCnt</th>\n",
       "      <th>fPort</th>\n",
       "      <th>data</th>\n",
       "      <th>datetime</th>\n",
       "      <th>location</th>\n",
       "    </tr>\n",
       "  </thead>\n",
       "  <tbody>\n",
       "    <tr>\n",
       "      <td>0</td>\n",
       "      <td>0004a30b001febcf</td>\n",
       "      <td>-34</td>\n",
       "      <td>10.5</td>\n",
       "      <td>868500000</td>\n",
       "      <td>0</td>\n",
       "      <td>1</td>\n",
       "      <td>1</td>\n",
       "      <td>F15D1</td>\n",
       "      <td>2019-04-24 00:06:22.797545</td>\n",
       "      <td>appartment</td>\n",
       "    </tr>\n",
       "    <tr>\n",
       "      <td>1</td>\n",
       "      <td>0004a30b001febcf</td>\n",
       "      <td>-33</td>\n",
       "      <td>9.5</td>\n",
       "      <td>868100000</td>\n",
       "      <td>0</td>\n",
       "      <td>2</td>\n",
       "      <td>1</td>\n",
       "      <td>F15D2</td>\n",
       "      <td>2019-04-24 00:06:29.367199</td>\n",
       "      <td>appartment</td>\n",
       "    </tr>\n",
       "    <tr>\n",
       "      <td>2</td>\n",
       "      <td>0004a30b001febcf</td>\n",
       "      <td>-48</td>\n",
       "      <td>9.5</td>\n",
       "      <td>868500000</td>\n",
       "      <td>5</td>\n",
       "      <td>3</td>\n",
       "      <td>1</td>\n",
       "      <td>F15D3</td>\n",
       "      <td>2019-04-24 00:06:34.832719</td>\n",
       "      <td>appartment</td>\n",
       "    </tr>\n",
       "    <tr>\n",
       "      <td>3</td>\n",
       "      <td>0004a30b001febcf</td>\n",
       "      <td>-46</td>\n",
       "      <td>10.0</td>\n",
       "      <td>868300000</td>\n",
       "      <td>5</td>\n",
       "      <td>4</td>\n",
       "      <td>1</td>\n",
       "      <td>F15D4</td>\n",
       "      <td>2019-04-24 00:06:38.953667</td>\n",
       "      <td>appartment</td>\n",
       "    </tr>\n",
       "    <tr>\n",
       "      <td>4</td>\n",
       "      <td>0004a30b001febcf</td>\n",
       "      <td>-48</td>\n",
       "      <td>9.8</td>\n",
       "      <td>868100000</td>\n",
       "      <td>5</td>\n",
       "      <td>5</td>\n",
       "      <td>1</td>\n",
       "      <td>F15D5</td>\n",
       "      <td>2019-04-24 00:06:43.123873</td>\n",
       "      <td>appartment</td>\n",
       "    </tr>\n",
       "    <tr>\n",
       "      <td>5</td>\n",
       "      <td>0004a30b001febcf</td>\n",
       "      <td>-49</td>\n",
       "      <td>9.3</td>\n",
       "      <td>868500000</td>\n",
       "      <td>5</td>\n",
       "      <td>6</td>\n",
       "      <td>1</td>\n",
       "      <td>F15D6</td>\n",
       "      <td>2019-04-24 00:06:47.279326</td>\n",
       "      <td>appartment</td>\n",
       "    </tr>\n",
       "    <tr>\n",
       "      <td>6</td>\n",
       "      <td>0004a30b001febcf</td>\n",
       "      <td>-48</td>\n",
       "      <td>9.3</td>\n",
       "      <td>868500000</td>\n",
       "      <td>5</td>\n",
       "      <td>7</td>\n",
       "      <td>1</td>\n",
       "      <td>F15D7</td>\n",
       "      <td>2019-04-24 00:06:51.409365</td>\n",
       "      <td>appartment</td>\n",
       "    </tr>\n",
       "    <tr>\n",
       "      <td>7</td>\n",
       "      <td>0004a30b001febcf</td>\n",
       "      <td>-46</td>\n",
       "      <td>9.5</td>\n",
       "      <td>868100000</td>\n",
       "      <td>5</td>\n",
       "      <td>8</td>\n",
       "      <td>1</td>\n",
       "      <td>F15D8</td>\n",
       "      <td>2019-04-24 00:06:59.879406</td>\n",
       "      <td>appartment</td>\n",
       "    </tr>\n",
       "    <tr>\n",
       "      <td>8</td>\n",
       "      <td>0004a30b001febcf</td>\n",
       "      <td>-41</td>\n",
       "      <td>10.3</td>\n",
       "      <td>868100000</td>\n",
       "      <td>4</td>\n",
       "      <td>9</td>\n",
       "      <td>1</td>\n",
       "      <td>F15D9</td>\n",
       "      <td>2019-04-24 00:07:04.062056</td>\n",
       "      <td>appartment</td>\n",
       "    </tr>\n",
       "    <tr>\n",
       "      <td>9</td>\n",
       "      <td>0004a30b001febcf</td>\n",
       "      <td>-42</td>\n",
       "      <td>8.8</td>\n",
       "      <td>868300000</td>\n",
       "      <td>5</td>\n",
       "      <td>10</td>\n",
       "      <td>1</td>\n",
       "      <td>F15D10</td>\n",
       "      <td>2019-04-24 00:07:08.265786</td>\n",
       "      <td>appartment</td>\n",
       "    </tr>\n",
       "  </tbody>\n",
       "</table>\n",
       "</div>"
      ],
      "text/plain": [
       "             devEUI  rssi  loraSNR  frequency  dr  fCnt  fPort    data  \\\n",
       "0  0004a30b001febcf   -34     10.5  868500000   0     1      1   F15D1   \n",
       "1  0004a30b001febcf   -33      9.5  868100000   0     2      1   F15D2   \n",
       "2  0004a30b001febcf   -48      9.5  868500000   5     3      1   F15D3   \n",
       "3  0004a30b001febcf   -46     10.0  868300000   5     4      1   F15D4   \n",
       "4  0004a30b001febcf   -48      9.8  868100000   5     5      1   F15D5   \n",
       "5  0004a30b001febcf   -49      9.3  868500000   5     6      1   F15D6   \n",
       "6  0004a30b001febcf   -48      9.3  868500000   5     7      1   F15D7   \n",
       "7  0004a30b001febcf   -46      9.5  868100000   5     8      1   F15D8   \n",
       "8  0004a30b001febcf   -41     10.3  868100000   4     9      1   F15D9   \n",
       "9  0004a30b001febcf   -42      8.8  868300000   5    10      1  F15D10   \n",
       "\n",
       "                     datetime    location  \n",
       "0  2019-04-24 00:06:22.797545  appartment  \n",
       "1  2019-04-24 00:06:29.367199  appartment  \n",
       "2  2019-04-24 00:06:34.832719  appartment  \n",
       "3  2019-04-24 00:06:38.953667  appartment  \n",
       "4  2019-04-24 00:06:43.123873  appartment  \n",
       "5  2019-04-24 00:06:47.279326  appartment  \n",
       "6  2019-04-24 00:06:51.409365  appartment  \n",
       "7  2019-04-24 00:06:59.879406  appartment  \n",
       "8  2019-04-24 00:07:04.062056  appartment  \n",
       "9  2019-04-24 00:07:08.265786  appartment  "
      ]
     },
     "execution_count": 15,
     "metadata": {},
     "output_type": "execute_result"
    }
   ],
   "source": [
    "cpdata.head(10)\n",
    "#cpdata.info()"
   ]
  },
  {
   "cell_type": "code",
   "execution_count": 16,
   "metadata": {},
   "outputs": [
    {
     "data": {
      "text/plain": [
       "<matplotlib.axes._subplots.AxesSubplot at 0x23268cc59c8>"
      ]
     },
     "execution_count": 16,
     "metadata": {},
     "output_type": "execute_result"
    },
    {
     "data": {
      "image/png": "[encoded data removed]",
      "text/plain": [
       "<Figure size 432x288 with 1 Axes>"
      ]
     },
     "metadata": {
      "needs_background": "light"
     },
     "output_type": "display_data"
    }
   ],
   "source": [
    "cpdata['rssi'].head(10).plot.bar()"
   ]
  },
  {
   "cell_type": "code",
   "execution_count": 17,
   "metadata": {},
   "outputs": [],
   "source": [
    "f15 = cpdata[cpdata[\"data\"].str.match('F15')]\n",
    "#df[df['model'].str.match('Mac')]\n",
    "f14 = cpdata[cpdata[\"data\"].str.match('F14')]"
   ]
  },
  {
   "cell_type": "code",
   "execution_count": 18,
   "metadata": {},
   "outputs": [
    {
     "data": {
      "text/plain": [
       "-45.8"
      ]
     },
     "execution_count": 18,
     "metadata": {},
     "output_type": "execute_result"
    }
   ],
   "source": [
    "f15['rssi'].mean()"
   ]
  },
  {
   "cell_type": "code",
   "execution_count": 19,
   "metadata": {},
   "outputs": [
    {
     "data": {
      "text/plain": [
       "-101.04761904761905"
      ]
     },
     "execution_count": 19,
     "metadata": {},
     "output_type": "execute_result"
    }
   ],
   "source": [
    "f14['rssi'].mean()"
   ]
  },
  {
   "cell_type": "markdown",
   "metadata": {},
   "source": [
    "## Average RSSI and SNR at Each Floor"
   ]
  },
  {
   "cell_type": "code",
   "execution_count": 20,
   "metadata": {},
   "outputs": [],
   "source": [
    "f_rssi_mean = []\n",
    "f_snr_mean = []\n",
    "for val in range(16):\n",
    "    if(val < 10):\n",
    "        key = \"F0\" + str(val)\n",
    "        temp = cpdata[cpdata[\"data\"].str.match(key)]\n",
    "        f_rssi_mean.append({key : temp['rssi'].mean()})\n",
    "        f_snr_mean.append({key : temp['loraSNR'].mean()})\n",
    "    else:\n",
    "        key = \"F\" + str(val)\n",
    "        temp = cpdata[cpdata[\"data\"].str.match(key)]\n",
    "        f_rssi_mean.append({key : temp['rssi'].mean()})\n",
    "        f_snr_mean.append({key : temp['loraSNR'].mean()})"
   ]
  },
  {
   "cell_type": "code",
   "execution_count": 34,
   "metadata": {},
   "outputs": [
    {
     "name": "stdout",
     "output_type": "stream",
     "text": [
      "['F00' 'F01' 'F02' 'F03' 'F04' 'F05' 'F06' 'F07' 'F08' 'F09' 'F10' 'F11'\n",
      " 'F12' 'F13' 'F14' 'F15']\n"
     ]
    }
   ],
   "source": [
    "f_rssi_mean\n",
    "x = np.array(list(map(lambda  x: list(x.keys())[0], f_rssi_mean)))\n",
    "print(x)"
   ]
  },
  {
   "cell_type": "code",
   "execution_count": 43,
   "metadata": {},
   "outputs": [
    {
     "data": {
      "text/plain": [
       "Text(0, 0.5, 'SNR')"
      ]
     },
     "execution_count": 43,
     "metadata": {},
     "output_type": "execute_result"
    },
    {
     "data": {
      "image/png": "[encoded data removed]",
      "text/plain": [
       "<Figure size 1080x576 with 2 Axes>"
      ]
     },
     "metadata": {},
     "output_type": "display_data"
    }
   ],
   "source": [
    "sns.set(style=\"white\", context=\"talk\")\n",
    "\n",
    "f, (ax1, ax2) = plt.subplots(2, 1, figsize=(15, 8), sharex=True)\n",
    "\n",
    "# RSSI\n",
    "x = np.array(list(map(lambda  x: list(x.keys())[0], f_rssi_mean)))\n",
    "y1 = np.array(list(map(lambda  x: list(x.values())[0], f_rssi_mean)))\n",
    "sns.barplot(x=x, y=y1, palette=\"rocket\", ax=ax1)\n",
    "ax1.axhline(0, color=\"k\", clip_on=False)\n",
    "ax1.set_ylabel(\"RSSI\")\n",
    "\n",
    "# SNR\n",
    "x_snr = np.array(list(map(lambda  x: list(x.keys())[0], f_snr_mean)))\n",
    "y1_snr = np.array(list(map(lambda  x: list(x.values())[0], f_snr_mean)))\n",
    "sns.barplot(x=x_snr, y=y1_snr, palette=\"rocket\", ax=ax2)\n",
    "ax2.axhline(0, color=\"k\", clip_on=False)\n",
    "ax2.set_ylabel(\"SNR\")"
   ]
  },
  {
   "cell_type": "code",
   "execution_count": 22,
   "metadata": {},
   "outputs": [
    {
     "data": {
      "text/plain": [
       "[{'F00': -12.095238095238098},\n",
       " {'F01': -6.054999999999999},\n",
       " {'F02': -0.6449999999999999},\n",
       " {'F03': -5.545},\n",
       " {'F04': -4.531818181818181},\n",
       " {'F05': -6.394999999999999},\n",
       " {'F06': -2.5952380952380945},\n",
       " {'F07': -2.9799999999999995},\n",
       " {'F08': -3.3947368421052633},\n",
       " {'F09': -2.9449999999999994},\n",
       " {'F10': -2.180952380952381},\n",
       " {'F11': 4.838095238095237},\n",
       " {'F12': 4.879999999999999},\n",
       " {'F13': 5.5699999999999985},\n",
       " {'F14': 6.371428571428571},\n",
       " {'F15': 9.515}]"
      ]
     },
     "execution_count": 22,
     "metadata": {},
     "output_type": "execute_result"
    }
   ],
   "source": [
    "f_snr_mean"
   ]
  },
  {
   "cell_type": "markdown",
   "metadata": {},
   "source": [
    "## To find time taken at each floor¶\n"
   ]
  },
  {
   "cell_type": "code",
   "execution_count": 11,
   "metadata": {},
   "outputs": [
    {
     "name": "stdout",
     "output_type": "stream",
     "text": [
      "0    2019-04-24 00:06:22.797545\n",
      "Name: datetime, dtype: object\n",
      "19    2019-04-24 00:07:49.788144\n",
      "Name: datetime, dtype: object\n",
      "2019-04-24 00:07:49.788144\n"
     ]
    },
    {
     "data": {
      "text/plain": [
       "86.990599"
      ]
     },
     "execution_count": 11,
     "metadata": {},
     "output_type": "execute_result"
    }
   ],
   "source": [
    "import datetime as dt\n",
    "\n",
    "#reviews[reviews['price'] < 200]['price'].plot.hist()\n",
    "\n",
    "start = cpdata[cpdata[\"data\"] == 'F15D1']\n",
    "end = cpdata[cpdata[\"data\"] == 'F15D20']\n",
    "\n",
    "print(start['datetime'])\n",
    "print(end['datetime'])\n",
    "\n",
    "#data[\"Salary\"]= data[\"Salary\"].astype(int) \n",
    "\n",
    "start_time = start.values.tolist()\n",
    "end_time = end.values.tolist()\n",
    "\n",
    "\n",
    "print(end_time[0][8])\n",
    "\n",
    "# date format 2019-04-24 00:06:22.797545\n",
    "a = dt.datetime.strptime(start_time[0][8], '%Y-%m-%d %H:%M:%S.%f')\n",
    "b = dt.datetime.strptime(end_time[0][8], '%Y-%m-%d %H:%M:%S.%f')\n",
    "\n",
    "(b-a).total_seconds()"
   ]
  },
  {
   "cell_type": "code",
   "execution_count": 12,
   "metadata": {},
   "outputs": [],
   "source": [
    "f_total_floor = []\n",
    "f_total_time = []\n",
    "for val in range(16):\n",
    "    if(val < 10):\n",
    "        key = \"F0\" + str(val)\n",
    "        start = cpdata[cpdata[\"data\"] == key + 'D1']\n",
    "        end = cpdata[cpdata[\"data\"] == key + 'D20']\n",
    "        start_time = start.values.tolist()\n",
    "        end_time = end.values.tolist()\n",
    "        a = dt.datetime.strptime(start_time[0][8], '%Y-%m-%d %H:%M:%S.%f')\n",
    "        b = dt.datetime.strptime(end_time[0][8], '%Y-%m-%d %H:%M:%S.%f')\n",
    "        f_total_floor.append(key)\n",
    "        f_total_time.append((b-a).total_seconds())\n",
    "    else:\n",
    "        key = \"F\" + str(val)\n",
    "        start = cpdata[cpdata[\"data\"] == key + 'D1']\n",
    "        end = cpdata[cpdata[\"data\"] == key + 'D20']\n",
    "        start_time = start.values.tolist()\n",
    "        end_time = end.values.tolist()\n",
    "        a = dt.datetime.strptime(start_time[0][8], '%Y-%m-%d %H:%M:%S.%f')\n",
    "        b = dt.datetime.strptime(end_time[0][8], '%Y-%m-%d %H:%M:%S.%f')\n",
    "        f_total_floor.append(key)\n",
    "        f_total_time.append((b-a).total_seconds())"
   ]
  },
  {
   "cell_type": "code",
   "execution_count": 13,
   "metadata": {},
   "outputs": [
    {
     "data": {
      "text/plain": [
       "[99.04509,\n",
       " 118.52898,\n",
       " 131.869865,\n",
       " 113.584416,\n",
       " 135.762109,\n",
       " 162.100152,\n",
       " 176.065031,\n",
       " 138.274353,\n",
       " 188.957198,\n",
       " 95.666096,\n",
       " 95.779891,\n",
       " 91.291378,\n",
       " 86.987915,\n",
       " 95.726662,\n",
       " 91.201314,\n",
       " 86.990599]"
      ]
     },
     "execution_count": 13,
     "metadata": {},
     "output_type": "execute_result"
    }
   ],
   "source": [
    "f_total_time"
   ]
  },
  {
   "cell_type": "code",
   "execution_count": 14,
   "metadata": {},
   "outputs": [
    {
     "data": {
      "image/png": "[encoded data removed]",
      "text/plain": [
       "<Figure size 432x288 with 1 Axes>"
      ]
     },
     "metadata": {
      "needs_background": "light"
     },
     "output_type": "display_data"
    }
   ],
   "source": [
    "x = f_total_floor\n",
    "y = f_total_time\n",
    "plt.plot(x, y)\n",
    "plt.show()"
   ]
  },
  {
   "cell_type": "code",
   "execution_count": 15,
   "metadata": {},
   "outputs": [],
   "source": [
    "a_total_floor = []\n",
    "a_total_time = []\n",
    "for val in range(16):\n",
    "    if(val < 10):\n",
    "        key = \"A0\" + str(val)\n",
    "        start = cpdata[cpdata[\"data\"] == key + 'D1']\n",
    "        end = cpdata[cpdata[\"data\"] == key + 'D20']\n",
    "        start_time = start.values.tolist()\n",
    "        end_time = end.values.tolist()\n",
    "        a = dt.datetime.strptime(start_time[0][8], '%Y-%m-%d %H:%M:%S.%f')\n",
    "        b = dt.datetime.strptime(end_time[0][8], '%Y-%m-%d %H:%M:%S.%f')\n",
    "        a_total_floor.append(key)\n",
    "        a_total_time.append((b-a).total_seconds())\n",
    "    else:\n",
    "        key = \"A\" + str(val)\n",
    "        start = cpdata[cpdata[\"data\"] == key + 'D1']\n",
    "        end = cpdata[cpdata[\"data\"] == key + 'D20']\n",
    "        start_time = start.values.tolist()\n",
    "        end_time = end.values.tolist()\n",
    "        a = dt.datetime.strptime(start_time[0][8], '%Y-%m-%d %H:%M:%S.%f')\n",
    "        b = dt.datetime.strptime(end_time[0][8], '%Y-%m-%d %H:%M:%S.%f')\n",
    "        a_total_floor.append(key)\n",
    "        a_total_time.append((b-a).total_seconds())"
   ]
  },
  {
   "cell_type": "code",
   "execution_count": 16,
   "metadata": {},
   "outputs": [
    {
     "data": {
      "text/plain": [
       "[182.362387,\n",
       " 165.247883,\n",
       " 171.299749,\n",
       " 154.129476,\n",
       " 229.364734,\n",
       " 106.397644,\n",
       " 130.832246,\n",
       " 126.697138,\n",
       " 114.605248,\n",
       " 106.379904,\n",
       " 116.322666,\n",
       " 161.089988,\n",
       " 164.004032,\n",
       " 173.332019,\n",
       " 117.955298,\n",
       " 122.938001]"
      ]
     },
     "execution_count": 16,
     "metadata": {},
     "output_type": "execute_result"
    }
   ],
   "source": [
    "a_total_time"
   ]
  },
  {
   "cell_type": "code",
   "execution_count": 17,
   "metadata": {},
   "outputs": [
    {
     "data": {
      "image/png": "[encoded data removed]",
      "text/plain": [
       "<Figure size 432x288 with 1 Axes>"
      ]
     },
     "metadata": {
      "needs_background": "light"
     },
     "output_type": "display_data"
    }
   ],
   "source": [
    "x = a_total_floor\n",
    "y = a_total_time\n",
    "plt.plot(x, y)\n",
    "plt.show()"
   ]
  },
  {
   "cell_type": "code",
   "execution_count": 18,
   "metadata": {},
   "outputs": [],
   "source": [
    "f_total_floor.reverse()\n",
    "f_total_time.reverse()"
   ]
  },
  {
   "cell_type": "code",
   "execution_count": 19,
   "metadata": {},
   "outputs": [
    {
     "data": {
      "text/plain": [
       "['F15',\n",
       " 'F14',\n",
       " 'F13',\n",
       " 'F12',\n",
       " 'F11',\n",
       " 'F10',\n",
       " 'F09',\n",
       " 'F08',\n",
       " 'F07',\n",
       " 'F06',\n",
       " 'F05',\n",
       " 'F04',\n",
       " 'F03',\n",
       " 'F02',\n",
       " 'F01',\n",
       " 'F00']"
      ]
     },
     "execution_count": 19,
     "metadata": {},
     "output_type": "execute_result"
    }
   ],
   "source": [
    "f_total_floor"
   ]
  },
  {
   "cell_type": "code",
   "execution_count": 20,
   "metadata": {},
   "outputs": [
    {
     "data": {
      "image/png": "[encoded data removed]",
      "text/plain": [
       "<Figure size 1152x288 with 1 Axes>"
      ]
     },
     "metadata": {
      "needs_background": "light"
     },
     "output_type": "display_data"
    }
   ],
   "source": [
    "# Both the Floors\n",
    "\n",
    "x = f_total_floor + a_total_floor \n",
    "y = f_total_time + a_total_time\n",
    "fig_size = plt.rcParams[\"figure.figsize\"]\n",
    "fig_size[0] = 16\n",
    "fig_size[1] = 4\n",
    "plt.rcParams[\"figure.figsize\"] = fig_size\n",
    "plt.plot(x, y)\n",
    "plt.show()"
   ]
  },
  {
   "cell_type": "code",
   "execution_count": 21,
   "metadata": {},
   "outputs": [
    {
     "name": "stdout",
     "output_type": "stream",
     "text": [
      "[6.0, 4.0]\n"
     ]
    }
   ],
   "source": [
    "# Default\n",
    "fig_size = plt.rcParams[\"figure.figsize\"]\n",
    "fig_size[0] = 6\n",
    "fig_size[1] = 4\n",
    "plt.rcParams[\"figure.figsize\"] = fig_size\n",
    "print(plt.rcParams.get('figure.figsize'))"
   ]
  },
  {
   "cell_type": "code",
   "execution_count": 37,
   "metadata": {},
   "outputs": [
    {
     "data": {
      "text/html": [
       "<div>\n",
       "<style scoped>\n",
       "    .dataframe tbody tr th:only-of-type {\n",
       "        vertical-align: middle;\n",
       "    }\n",
       "\n",
       "    .dataframe tbody tr th {\n",
       "        vertical-align: top;\n",
       "    }\n",
       "\n",
       "    .dataframe thead th {\n",
       "        text-align: right;\n",
       "    }\n",
       "</style>\n",
       "<table border=\"1\" class=\"dataframe\">\n",
       "  <thead>\n",
       "    <tr style=\"text-align: right;\">\n",
       "      <th></th>\n",
       "      <th>devEUI</th>\n",
       "      <th>rssi</th>\n",
       "      <th>loraSNR</th>\n",
       "      <th>frequency</th>\n",
       "      <th>dr</th>\n",
       "      <th>fCnt</th>\n",
       "      <th>fPort</th>\n",
       "      <th>data</th>\n",
       "      <th>datetime</th>\n",
       "      <th>location</th>\n",
       "      <th>floor</th>\n",
       "    </tr>\n",
       "  </thead>\n",
       "  <tbody>\n",
       "    <tr>\n",
       "      <td>0</td>\n",
       "      <td>0004a30b001febcf</td>\n",
       "      <td>-34</td>\n",
       "      <td>10.5</td>\n",
       "      <td>868500000</td>\n",
       "      <td>0</td>\n",
       "      <td>1</td>\n",
       "      <td>1</td>\n",
       "      <td>F15D1</td>\n",
       "      <td>2019-04-24 00:06:22.797545</td>\n",
       "      <td>appartment</td>\n",
       "      <td>F15</td>\n",
       "    </tr>\n",
       "    <tr>\n",
       "      <td>1</td>\n",
       "      <td>0004a30b001febcf</td>\n",
       "      <td>-33</td>\n",
       "      <td>9.5</td>\n",
       "      <td>868100000</td>\n",
       "      <td>0</td>\n",
       "      <td>2</td>\n",
       "      <td>1</td>\n",
       "      <td>F15D2</td>\n",
       "      <td>2019-04-24 00:06:29.367199</td>\n",
       "      <td>appartment</td>\n",
       "      <td>F15</td>\n",
       "    </tr>\n",
       "    <tr>\n",
       "      <td>2</td>\n",
       "      <td>0004a30b001febcf</td>\n",
       "      <td>-48</td>\n",
       "      <td>9.5</td>\n",
       "      <td>868500000</td>\n",
       "      <td>5</td>\n",
       "      <td>3</td>\n",
       "      <td>1</td>\n",
       "      <td>F15D3</td>\n",
       "      <td>2019-04-24 00:06:34.832719</td>\n",
       "      <td>appartment</td>\n",
       "      <td>F15</td>\n",
       "    </tr>\n",
       "    <tr>\n",
       "      <td>3</td>\n",
       "      <td>0004a30b001febcf</td>\n",
       "      <td>-46</td>\n",
       "      <td>10.0</td>\n",
       "      <td>868300000</td>\n",
       "      <td>5</td>\n",
       "      <td>4</td>\n",
       "      <td>1</td>\n",
       "      <td>F15D4</td>\n",
       "      <td>2019-04-24 00:06:38.953667</td>\n",
       "      <td>appartment</td>\n",
       "      <td>F15</td>\n",
       "    </tr>\n",
       "    <tr>\n",
       "      <td>4</td>\n",
       "      <td>0004a30b001febcf</td>\n",
       "      <td>-48</td>\n",
       "      <td>9.8</td>\n",
       "      <td>868100000</td>\n",
       "      <td>5</td>\n",
       "      <td>5</td>\n",
       "      <td>1</td>\n",
       "      <td>F15D5</td>\n",
       "      <td>2019-04-24 00:06:43.123873</td>\n",
       "      <td>appartment</td>\n",
       "      <td>F15</td>\n",
       "    </tr>\n",
       "    <tr>\n",
       "      <td>5</td>\n",
       "      <td>0004a30b001febcf</td>\n",
       "      <td>-49</td>\n",
       "      <td>9.3</td>\n",
       "      <td>868500000</td>\n",
       "      <td>5</td>\n",
       "      <td>6</td>\n",
       "      <td>1</td>\n",
       "      <td>F15D6</td>\n",
       "      <td>2019-04-24 00:06:47.279326</td>\n",
       "      <td>appartment</td>\n",
       "      <td>F15</td>\n",
       "    </tr>\n",
       "    <tr>\n",
       "      <td>6</td>\n",
       "      <td>0004a30b001febcf</td>\n",
       "      <td>-48</td>\n",
       "      <td>9.3</td>\n",
       "      <td>868500000</td>\n",
       "      <td>5</td>\n",
       "      <td>7</td>\n",
       "      <td>1</td>\n",
       "      <td>F15D7</td>\n",
       "      <td>2019-04-24 00:06:51.409365</td>\n",
       "      <td>appartment</td>\n",
       "      <td>F15</td>\n",
       "    </tr>\n",
       "    <tr>\n",
       "      <td>7</td>\n",
       "      <td>0004a30b001febcf</td>\n",
       "      <td>-46</td>\n",
       "      <td>9.5</td>\n",
       "      <td>868100000</td>\n",
       "      <td>5</td>\n",
       "      <td>8</td>\n",
       "      <td>1</td>\n",
       "      <td>F15D8</td>\n",
       "      <td>2019-04-24 00:06:59.879406</td>\n",
       "      <td>appartment</td>\n",
       "      <td>F15</td>\n",
       "    </tr>\n",
       "    <tr>\n",
       "      <td>8</td>\n",
       "      <td>0004a30b001febcf</td>\n",
       "      <td>-41</td>\n",
       "      <td>10.3</td>\n",
       "      <td>868100000</td>\n",
       "      <td>4</td>\n",
       "      <td>9</td>\n",
       "      <td>1</td>\n",
       "      <td>F15D9</td>\n",
       "      <td>2019-04-24 00:07:04.062056</td>\n",
       "      <td>appartment</td>\n",
       "      <td>F15</td>\n",
       "    </tr>\n",
       "    <tr>\n",
       "      <td>9</td>\n",
       "      <td>0004a30b001febcf</td>\n",
       "      <td>-42</td>\n",
       "      <td>8.8</td>\n",
       "      <td>868300000</td>\n",
       "      <td>5</td>\n",
       "      <td>10</td>\n",
       "      <td>1</td>\n",
       "      <td>F15D10</td>\n",
       "      <td>2019-04-24 00:07:08.265786</td>\n",
       "      <td>appartment</td>\n",
       "      <td>F15</td>\n",
       "    </tr>\n",
       "  </tbody>\n",
       "</table>\n",
       "</div>"
      ],
      "text/plain": [
       "             devEUI  rssi  loraSNR  frequency  dr  fCnt  fPort    data  \\\n",
       "0  0004a30b001febcf   -34     10.5  868500000   0     1      1   F15D1   \n",
       "1  0004a30b001febcf   -33      9.5  868100000   0     2      1   F15D2   \n",
       "2  0004a30b001febcf   -48      9.5  868500000   5     3      1   F15D3   \n",
       "3  0004a30b001febcf   -46     10.0  868300000   5     4      1   F15D4   \n",
       "4  0004a30b001febcf   -48      9.8  868100000   5     5      1   F15D5   \n",
       "5  0004a30b001febcf   -49      9.3  868500000   5     6      1   F15D6   \n",
       "6  0004a30b001febcf   -48      9.3  868500000   5     7      1   F15D7   \n",
       "7  0004a30b001febcf   -46      9.5  868100000   5     8      1   F15D8   \n",
       "8  0004a30b001febcf   -41     10.3  868100000   4     9      1   F15D9   \n",
       "9  0004a30b001febcf   -42      8.8  868300000   5    10      1  F15D10   \n",
       "\n",
       "                     datetime    location floor  \n",
       "0  2019-04-24 00:06:22.797545  appartment   F15  \n",
       "1  2019-04-24 00:06:29.367199  appartment   F15  \n",
       "2  2019-04-24 00:06:34.832719  appartment   F15  \n",
       "3  2019-04-24 00:06:38.953667  appartment   F15  \n",
       "4  2019-04-24 00:06:43.123873  appartment   F15  \n",
       "5  2019-04-24 00:06:47.279326  appartment   F15  \n",
       "6  2019-04-24 00:06:51.409365  appartment   F15  \n",
       "7  2019-04-24 00:06:59.879406  appartment   F15  \n",
       "8  2019-04-24 00:07:04.062056  appartment   F15  \n",
       "9  2019-04-24 00:07:08.265786  appartment   F15  "
      ]
     },
     "execution_count": 37,
     "metadata": {},
     "output_type": "execute_result"
    }
   ],
   "source": [
    "cpdata.head(10)"
   ]
  },
  {
   "cell_type": "code",
   "execution_count": 25,
   "metadata": {},
   "outputs": [
    {
     "data": {
      "text/plain": [
       "count        658\n",
       "unique       632\n",
       "top       A04D18\n",
       "freq           3\n",
       "Name: data, dtype: object"
      ]
     },
     "execution_count": 25,
     "metadata": {},
     "output_type": "execute_result"
    }
   ],
   "source": [
    "cpdata['data'].describe()"
   ]
  },
  {
   "cell_type": "code",
   "execution_count": 36,
   "metadata": {},
   "outputs": [],
   "source": [
    "cpdata['floor']=cpdata['data'].str.split('D').str[0]\n"
   ]
  },
  {
   "cell_type": "code",
   "execution_count": 38,
   "metadata": {},
   "outputs": [
    {
     "data": {
      "text/plain": [
       "count     658\n",
       "unique     34\n",
       "top       A04\n",
       "freq       23\n",
       "Name: floor, dtype: object"
      ]
     },
     "execution_count": 38,
     "metadata": {},
     "output_type": "execute_result"
    }
   ],
   "source": [
    "cpdata['floor'].describe()"
   ]
  },
  {
   "cell_type": "code",
   "execution_count": 41,
   "metadata": {},
   "outputs": [
    {
     "data": {
      "text/plain": [
       "A04     23\n",
       "A01     23\n",
       "F04     22\n",
       "A15     22\n",
       "F11     21\n",
       "F10     21\n",
       "A14     21\n",
       "A08     21\n",
       "F14     21\n",
       "A13     21\n",
       "A00     21\n",
       "F06     21\n",
       "F00     21\n",
       "A02     20\n",
       "A09     20\n",
       "F03     20\n",
       "F13     20\n",
       "F12     20\n",
       "A03     20\n",
       "A10     20\n",
       "F09     20\n",
       "F15     20\n",
       "F05     20\n",
       "A06     20\n",
       "F02     20\n",
       "F07     20\n",
       "A07     20\n",
       "A05     20\n",
       "F01     20\n",
       "F08     19\n",
       "A11     19\n",
       "A12     19\n",
       "F45      1\n",
       "ping     1\n",
       "Name: floor, dtype: int64"
      ]
     },
     "execution_count": 41,
     "metadata": {},
     "output_type": "execute_result"
    }
   ],
   "source": [
    "cpdata['floor'].value_counts()"
   ]
  },
  {
   "cell_type": "markdown",
   "metadata": {},
   "source": [
    "## Interpacler Delay\n",
    "\n",
    "Inter packet delay can be calculated using total time in a floor/No. of packet received"
   ]
  },
  {
   "cell_type": "code",
   "execution_count": null,
   "metadata": {},
   "outputs": [],
   "source": []
  }
 ],
 "metadata": {
  "kernelspec": {
   "display_name": "Python 3",
   "language": "python",
   "name": "python3"
  },
  "language_info": {
   "codemirror_mode": {
    "name": "ipython",
    "version": 3
   },
   "file_extension": ".py",
   "mimetype": "text/x-python",
   "name": "python",
   "nbconvert_exporter": "python",
   "pygments_lexer": "ipython3",
   "version": "3.7.4"
  }
 },
 "nbformat": 4,
 "nbformat_minor": 2
}
